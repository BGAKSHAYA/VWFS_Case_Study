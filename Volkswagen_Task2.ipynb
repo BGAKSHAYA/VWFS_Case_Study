{
  "nbformat": 4,
  "nbformat_minor": 0,
  "metadata": {
    "accelerator": "GPU",
    "colab": {
      "name": "Volkswagen Task2.ipynb",
      "provenance": [],
      "collapsed_sections": []
    },
    "kernelspec": {
      "display_name": "Python 3",
      "language": "python",
      "name": "python3"
    },
    "language_info": {
      "codemirror_mode": {
        "name": "ipython",
        "version": 3
      },
      "file_extension": ".py",
      "mimetype": "text/x-python",
      "name": "python",
      "nbconvert_exporter": "python",
      "pygments_lexer": "ipython3",
      "version": "3.8.3"
    }
  },
  "cells": [
    {
      "cell_type": "code",
      "metadata": {
        "id": "OsslzAnI3qlO"
      },
      "source": [
        "import sys \r\n",
        "import numpy as np \r\n",
        "import pandas as pd\r\n",
        "import matplotlib.pyplot as plt\r\n",
        "import seaborn as sns\r\n",
        "from sklearn.preprocessing import StandardScaler, MinMaxScaler, RobustScaler\r\n",
        "from sklearn.metrics import mean_squared_error, mean_absolute_error\r\n",
        "import tensorflow as tf\r\n",
        "from tensorflow.keras import datasets, layers, models\r\n",
        "from statsmodels.graphics.tsaplots import plot_acf\r\n",
        "from sklearn import preprocessing\r\n",
        "from category_encoders import TargetEncoder\r\n"
      ],
      "execution_count": 607,
      "outputs": []
    },
    {
      "cell_type": "code",
      "metadata": {
        "id": "rp1vhZlm51ob"
      },
      "source": [
        "df = pd.read_csv('data_01.12.2020_preprocessed.csv', sep=',', parse_dates=['sales_date', 'first_registration'])"
      ],
      "execution_count": 608,
      "outputs": []
    },
    {
      "cell_type": "code",
      "metadata": {
        "colab": {
          "base_uri": "https://localhost:8080/",
          "height": 407
        },
        "id": "wsE4gg7M51od",
        "outputId": "9629c3ad-3889-46e8-aa9e-63df1a570008"
      },
      "source": [
        "df"
      ],
      "execution_count": 609,
      "outputs": [
        {
          "output_type": "execute_result",
          "data": {
            "text/html": [
              "<div>\n",
              "<style scoped>\n",
              "    .dataframe tbody tr th:only-of-type {\n",
              "        vertical-align: middle;\n",
              "    }\n",
              "\n",
              "    .dataframe tbody tr th {\n",
              "        vertical-align: top;\n",
              "    }\n",
              "\n",
              "    .dataframe thead th {\n",
              "        text-align: right;\n",
              "    }\n",
              "</style>\n",
              "<table border=\"1\" class=\"dataframe\">\n",
              "  <thead>\n",
              "    <tr style=\"text-align: right;\">\n",
              "      <th></th>\n",
              "      <th>sales_date</th>\n",
              "      <th>first_registration</th>\n",
              "      <th>brand</th>\n",
              "      <th>model</th>\n",
              "      <th>modelyear</th>\n",
              "      <th>fuel</th>\n",
              "      <th>listprice</th>\n",
              "      <th>mileage</th>\n",
              "      <th>region</th>\n",
              "      <th>sales_price</th>\n",
              "    </tr>\n",
              "  </thead>\n",
              "  <tbody>\n",
              "    <tr>\n",
              "      <th>0</th>\n",
              "      <td>2017-01-01</td>\n",
              "      <td>2014-02-28</td>\n",
              "      <td>Volkswagen</td>\n",
              "      <td>JETTA (A6)</td>\n",
              "      <td>2014.0</td>\n",
              "      <td>G</td>\n",
              "      <td>24255.0</td>\n",
              "      <td>15986.0</td>\n",
              "      <td>Southeast</td>\n",
              "      <td>11800.0</td>\n",
              "    </tr>\n",
              "    <tr>\n",
              "      <th>1</th>\n",
              "      <td>2017-01-01</td>\n",
              "      <td>2014-05-30</td>\n",
              "      <td>Volkswagen</td>\n",
              "      <td>JETTA (A6)</td>\n",
              "      <td>2014.0</td>\n",
              "      <td>G</td>\n",
              "      <td>22905.0</td>\n",
              "      <td>7123.0</td>\n",
              "      <td>Pacific</td>\n",
              "      <td>10739.0</td>\n",
              "    </tr>\n",
              "    <tr>\n",
              "      <th>2</th>\n",
              "      <td>2017-01-01</td>\n",
              "      <td>2013-06-30</td>\n",
              "      <td>Audi</td>\n",
              "      <td>A4 Sedan</td>\n",
              "      <td>2013.0</td>\n",
              "      <td>G</td>\n",
              "      <td>54165.0</td>\n",
              "      <td>28765.0</td>\n",
              "      <td>Pacific</td>\n",
              "      <td>28707.0</td>\n",
              "    </tr>\n",
              "    <tr>\n",
              "      <th>3</th>\n",
              "      <td>2017-01-01</td>\n",
              "      <td>2013-01-19</td>\n",
              "      <td>Volkswagen</td>\n",
              "      <td>Passat</td>\n",
              "      <td>2013.0</td>\n",
              "      <td>G</td>\n",
              "      <td>24010.0</td>\n",
              "      <td>50415.0</td>\n",
              "      <td>Pacific</td>\n",
              "      <td>9376.0</td>\n",
              "    </tr>\n",
              "    <tr>\n",
              "      <th>4</th>\n",
              "      <td>2017-01-01</td>\n",
              "      <td>2014-03-20</td>\n",
              "      <td>Volkswagen</td>\n",
              "      <td>JETTA (A6)</td>\n",
              "      <td>2014.0</td>\n",
              "      <td>G</td>\n",
              "      <td>24585.0</td>\n",
              "      <td>35325.0</td>\n",
              "      <td>Northeast</td>\n",
              "      <td>10500.0</td>\n",
              "    </tr>\n",
              "    <tr>\n",
              "      <th>...</th>\n",
              "      <td>...</td>\n",
              "      <td>...</td>\n",
              "      <td>...</td>\n",
              "      <td>...</td>\n",
              "      <td>...</td>\n",
              "      <td>...</td>\n",
              "      <td>...</td>\n",
              "      <td>...</td>\n",
              "      <td>...</td>\n",
              "      <td>...</td>\n",
              "    </tr>\n",
              "    <tr>\n",
              "      <th>423218</th>\n",
              "      <td>2019-04-30</td>\n",
              "      <td>2017-03-11</td>\n",
              "      <td>Audi</td>\n",
              "      <td>A4 Sedan</td>\n",
              "      <td>2017.0</td>\n",
              "      <td>G</td>\n",
              "      <td>48775.0</td>\n",
              "      <td>15241.0</td>\n",
              "      <td>Pacific</td>\n",
              "      <td>24800.0</td>\n",
              "    </tr>\n",
              "    <tr>\n",
              "      <th>423219</th>\n",
              "      <td>2019-04-30</td>\n",
              "      <td>2018-06-29</td>\n",
              "      <td>Volkswagen</td>\n",
              "      <td>TIGUAN</td>\n",
              "      <td>2018.0</td>\n",
              "      <td>G</td>\n",
              "      <td>23150.0</td>\n",
              "      <td>13176.0</td>\n",
              "      <td>Pacific</td>\n",
              "      <td>12600.0</td>\n",
              "    </tr>\n",
              "    <tr>\n",
              "      <th>423220</th>\n",
              "      <td>2019-04-30</td>\n",
              "      <td>2018-03-15</td>\n",
              "      <td>Volkswagen</td>\n",
              "      <td>TIGUAN</td>\n",
              "      <td>2017.0</td>\n",
              "      <td>G</td>\n",
              "      <td>26995.0</td>\n",
              "      <td>44045.0</td>\n",
              "      <td>Pacific</td>\n",
              "      <td>12000.0</td>\n",
              "    </tr>\n",
              "    <tr>\n",
              "      <th>423221</th>\n",
              "      <td>2019-04-30</td>\n",
              "      <td>2018-03-23</td>\n",
              "      <td>Volkswagen</td>\n",
              "      <td>TIGUAN</td>\n",
              "      <td>2017.0</td>\n",
              "      <td>G</td>\n",
              "      <td>27025.0</td>\n",
              "      <td>18601.0</td>\n",
              "      <td>Midwest</td>\n",
              "      <td>14600.0</td>\n",
              "    </tr>\n",
              "    <tr>\n",
              "      <th>423222</th>\n",
              "      <td>2019-04-30</td>\n",
              "      <td>2017-12-27</td>\n",
              "      <td>Volkswagen</td>\n",
              "      <td>TIGUAN</td>\n",
              "      <td>2017.0</td>\n",
              "      <td>G</td>\n",
              "      <td>26945.0</td>\n",
              "      <td>42077.0</td>\n",
              "      <td>Pacific</td>\n",
              "      <td>10800.0</td>\n",
              "    </tr>\n",
              "  </tbody>\n",
              "</table>\n",
              "<p>423223 rows × 10 columns</p>\n",
              "</div>"
            ],
            "text/plain": [
              "       sales_date first_registration  ...     region sales_price\n",
              "0      2017-01-01         2014-02-28  ...  Southeast     11800.0\n",
              "1      2017-01-01         2014-05-30  ...    Pacific     10739.0\n",
              "2      2017-01-01         2013-06-30  ...    Pacific     28707.0\n",
              "3      2017-01-01         2013-01-19  ...    Pacific      9376.0\n",
              "4      2017-01-01         2014-03-20  ...  Northeast     10500.0\n",
              "...           ...                ...  ...        ...         ...\n",
              "423218 2019-04-30         2017-03-11  ...    Pacific     24800.0\n",
              "423219 2019-04-30         2018-06-29  ...    Pacific     12600.0\n",
              "423220 2019-04-30         2018-03-15  ...    Pacific     12000.0\n",
              "423221 2019-04-30         2018-03-23  ...    Midwest     14600.0\n",
              "423222 2019-04-30         2017-12-27  ...    Pacific     10800.0\n",
              "\n",
              "[423223 rows x 10 columns]"
            ]
          },
          "metadata": {
            "tags": []
          },
          "execution_count": 609
        }
      ]
    },
    {
      "cell_type": "markdown",
      "metadata": {
        "id": "lHZb4EesR_Lp"
      },
      "source": [
        "#Data preprocessing - Continued"
      ]
    },
    {
      "cell_type": "markdown",
      "metadata": {
        "id": "Q5RpqrluA8ou"
      },
      "source": [
        "## Handling categorical features"
      ]
    },
    {
      "cell_type": "code",
      "metadata": {
        "id": "haprnPpj-ilh",
        "colab": {
          "base_uri": "https://localhost:8080/",
          "height": 545
        },
        "outputId": "4a4ee56b-6135-4efe-dd28-b0e404acc2bd"
      },
      "source": [
        "#Handle Date attributes\r\n",
        "#Create column for day,month, year, dayofweek, quarter information for date attributes\r\n",
        "df['sales_date_day'] = df['sales_date'].dt.day\r\n",
        "df['sales_date_month'] = df['sales_date'].dt.month\r\n",
        "df['sales_date_year'] = df['sales_date'].dt.year\r\n",
        "df['sales_date_dayofweek'] = df['sales_date'].dt.dayofweek\r\n",
        "df['sales_date_quarter'] = df['sales_date'].dt.quarter\r\n",
        "\r\n",
        "df['first_registration_day'] = df['first_registration'].dt.day\r\n",
        "df['first_registration_month'] = df['first_registration'].dt.month\r\n",
        "df['first_registration_year'] = df['first_registration'].dt.year\r\n",
        "df['first_registration_dayofweek'] = df['first_registration'].dt.dayofweek\r\n",
        "df['first_registration_quarter'] = df['first_registration'].dt.quarter\r\n",
        "\r\n",
        "#Autocorrelation with past 10lags for sales_price\r\n",
        "plot_acf(df['sales_price'], lags=10)"
      ],
      "execution_count": 610,
      "outputs": [
        {
          "output_type": "execute_result",
          "data": {
            "image/png": "[encoded data removed]",
            "text/plain": [
              "<Figure size 432x288 with 1 Axes>"
            ]
          },
          "metadata": {
            "tags": []
          },
          "execution_count": 610
        },
        {
          "output_type": "display_data",
          "data": {
            "image/png": "[encoded data removed]",
            "text/plain": [
              "<Figure size 432x288 with 1 Axes>"
            ]
          },
          "metadata": {
            "tags": [],
            "needs_background": "light"
          }
        }
      ]
    },
    {
      "cell_type": "code",
      "metadata": {
        "id": "SMXpooGVC7cc",
        "colab": {
          "base_uri": "https://localhost:8080/",
          "height": 514
        },
        "outputId": "3d0e3b54-99c3-4901-e409-8948527cf823"
      },
      "source": [
        "#Add lag 1 as a feature\r\n",
        "df['sales_price_lag1'] = df['sales_price'].shift(1)\r\n",
        "df = df.fillna(0) #Add 0 as the lag1 to first record\r\n",
        "df"
      ],
      "execution_count": 611,
      "outputs": [
        {
          "output_type": "execute_result",
          "data": {
            "text/html": [
              "<div>\n",
              "<style scoped>\n",
              "    .dataframe tbody tr th:only-of-type {\n",
              "        vertical-align: middle;\n",
              "    }\n",
              "\n",
              "    .dataframe tbody tr th {\n",
              "        vertical-align: top;\n",
              "    }\n",
              "\n",
              "    .dataframe thead th {\n",
              "        text-align: right;\n",
              "    }\n",
              "</style>\n",
              "<table border=\"1\" class=\"dataframe\">\n",
              "  <thead>\n",
              "    <tr style=\"text-align: right;\">\n",
              "      <th></th>\n",
              "      <th>sales_date</th>\n",
              "      <th>first_registration</th>\n",
              "      <th>brand</th>\n",
              "      <th>model</th>\n",
              "      <th>modelyear</th>\n",
              "      <th>fuel</th>\n",
              "      <th>listprice</th>\n",
              "      <th>mileage</th>\n",
              "      <th>region</th>\n",
              "      <th>sales_price</th>\n",
              "      <th>sales_date_day</th>\n",
              "      <th>sales_date_month</th>\n",
              "      <th>sales_date_year</th>\n",
              "      <th>sales_date_dayofweek</th>\n",
              "      <th>sales_date_quarter</th>\n",
              "      <th>first_registration_day</th>\n",
              "      <th>first_registration_month</th>\n",
              "      <th>first_registration_year</th>\n",
              "      <th>first_registration_dayofweek</th>\n",
              "      <th>first_registration_quarter</th>\n",
              "      <th>sales_price_lag1</th>\n",
              "    </tr>\n",
              "  </thead>\n",
              "  <tbody>\n",
              "    <tr>\n",
              "      <th>0</th>\n",
              "      <td>2017-01-01</td>\n",
              "      <td>2014-02-28</td>\n",
              "      <td>Volkswagen</td>\n",
              "      <td>JETTA (A6)</td>\n",
              "      <td>2014.0</td>\n",
              "      <td>G</td>\n",
              "      <td>24255.0</td>\n",
              "      <td>15986.0</td>\n",
              "      <td>Southeast</td>\n",
              "      <td>11800.0</td>\n",
              "      <td>1</td>\n",
              "      <td>1</td>\n",
              "      <td>2017</td>\n",
              "      <td>6</td>\n",
              "      <td>1</td>\n",
              "      <td>28</td>\n",
              "      <td>2</td>\n",
              "      <td>2014</td>\n",
              "      <td>4</td>\n",
              "      <td>1</td>\n",
              "      <td>0.0</td>\n",
              "    </tr>\n",
              "    <tr>\n",
              "      <th>1</th>\n",
              "      <td>2017-01-01</td>\n",
              "      <td>2014-05-30</td>\n",
              "      <td>Volkswagen</td>\n",
              "      <td>JETTA (A6)</td>\n",
              "      <td>2014.0</td>\n",
              "      <td>G</td>\n",
              "      <td>22905.0</td>\n",
              "      <td>7123.0</td>\n",
              "      <td>Pacific</td>\n",
              "      <td>10739.0</td>\n",
              "      <td>1</td>\n",
              "      <td>1</td>\n",
              "      <td>2017</td>\n",
              "      <td>6</td>\n",
              "      <td>1</td>\n",
              "      <td>30</td>\n",
              "      <td>5</td>\n",
              "      <td>2014</td>\n",
              "      <td>4</td>\n",
              "      <td>2</td>\n",
              "      <td>11800.0</td>\n",
              "    </tr>\n",
              "    <tr>\n",
              "      <th>2</th>\n",
              "      <td>2017-01-01</td>\n",
              "      <td>2013-06-30</td>\n",
              "      <td>Audi</td>\n",
              "      <td>A4 Sedan</td>\n",
              "      <td>2013.0</td>\n",
              "      <td>G</td>\n",
              "      <td>54165.0</td>\n",
              "      <td>28765.0</td>\n",
              "      <td>Pacific</td>\n",
              "      <td>28707.0</td>\n",
              "      <td>1</td>\n",
              "      <td>1</td>\n",
              "      <td>2017</td>\n",
              "      <td>6</td>\n",
              "      <td>1</td>\n",
              "      <td>30</td>\n",
              "      <td>6</td>\n",
              "      <td>2013</td>\n",
              "      <td>6</td>\n",
              "      <td>2</td>\n",
              "      <td>10739.0</td>\n",
              "    </tr>\n",
              "    <tr>\n",
              "      <th>3</th>\n",
              "      <td>2017-01-01</td>\n",
              "      <td>2013-01-19</td>\n",
              "      <td>Volkswagen</td>\n",
              "      <td>Passat</td>\n",
              "      <td>2013.0</td>\n",
              "      <td>G</td>\n",
              "      <td>24010.0</td>\n",
              "      <td>50415.0</td>\n",
              "      <td>Pacific</td>\n",
              "      <td>9376.0</td>\n",
              "      <td>1</td>\n",
              "      <td>1</td>\n",
              "      <td>2017</td>\n",
              "      <td>6</td>\n",
              "      <td>1</td>\n",
              "      <td>19</td>\n",
              "      <td>1</td>\n",
              "      <td>2013</td>\n",
              "      <td>5</td>\n",
              "      <td>1</td>\n",
              "      <td>28707.0</td>\n",
              "    </tr>\n",
              "    <tr>\n",
              "      <th>4</th>\n",
              "      <td>2017-01-01</td>\n",
              "      <td>2014-03-20</td>\n",
              "      <td>Volkswagen</td>\n",
              "      <td>JETTA (A6)</td>\n",
              "      <td>2014.0</td>\n",
              "      <td>G</td>\n",
              "      <td>24585.0</td>\n",
              "      <td>35325.0</td>\n",
              "      <td>Northeast</td>\n",
              "      <td>10500.0</td>\n",
              "      <td>1</td>\n",
              "      <td>1</td>\n",
              "      <td>2017</td>\n",
              "      <td>6</td>\n",
              "      <td>1</td>\n",
              "      <td>20</td>\n",
              "      <td>3</td>\n",
              "      <td>2014</td>\n",
              "      <td>3</td>\n",
              "      <td>1</td>\n",
              "      <td>9376.0</td>\n",
              "    </tr>\n",
              "    <tr>\n",
              "      <th>...</th>\n",
              "      <td>...</td>\n",
              "      <td>...</td>\n",
              "      <td>...</td>\n",
              "      <td>...</td>\n",
              "      <td>...</td>\n",
              "      <td>...</td>\n",
              "      <td>...</td>\n",
              "      <td>...</td>\n",
              "      <td>...</td>\n",
              "      <td>...</td>\n",
              "      <td>...</td>\n",
              "      <td>...</td>\n",
              "      <td>...</td>\n",
              "      <td>...</td>\n",
              "      <td>...</td>\n",
              "      <td>...</td>\n",
              "      <td>...</td>\n",
              "      <td>...</td>\n",
              "      <td>...</td>\n",
              "      <td>...</td>\n",
              "      <td>...</td>\n",
              "    </tr>\n",
              "    <tr>\n",
              "      <th>423218</th>\n",
              "      <td>2019-04-30</td>\n",
              "      <td>2017-03-11</td>\n",
              "      <td>Audi</td>\n",
              "      <td>A4 Sedan</td>\n",
              "      <td>2017.0</td>\n",
              "      <td>G</td>\n",
              "      <td>48775.0</td>\n",
              "      <td>15241.0</td>\n",
              "      <td>Pacific</td>\n",
              "      <td>24800.0</td>\n",
              "      <td>30</td>\n",
              "      <td>4</td>\n",
              "      <td>2019</td>\n",
              "      <td>1</td>\n",
              "      <td>2</td>\n",
              "      <td>11</td>\n",
              "      <td>3</td>\n",
              "      <td>2017</td>\n",
              "      <td>5</td>\n",
              "      <td>1</td>\n",
              "      <td>15250.0</td>\n",
              "    </tr>\n",
              "    <tr>\n",
              "      <th>423219</th>\n",
              "      <td>2019-04-30</td>\n",
              "      <td>2018-06-29</td>\n",
              "      <td>Volkswagen</td>\n",
              "      <td>TIGUAN</td>\n",
              "      <td>2018.0</td>\n",
              "      <td>G</td>\n",
              "      <td>23150.0</td>\n",
              "      <td>13176.0</td>\n",
              "      <td>Pacific</td>\n",
              "      <td>12600.0</td>\n",
              "      <td>30</td>\n",
              "      <td>4</td>\n",
              "      <td>2019</td>\n",
              "      <td>1</td>\n",
              "      <td>2</td>\n",
              "      <td>29</td>\n",
              "      <td>6</td>\n",
              "      <td>2018</td>\n",
              "      <td>4</td>\n",
              "      <td>2</td>\n",
              "      <td>24800.0</td>\n",
              "    </tr>\n",
              "    <tr>\n",
              "      <th>423220</th>\n",
              "      <td>2019-04-30</td>\n",
              "      <td>2018-03-15</td>\n",
              "      <td>Volkswagen</td>\n",
              "      <td>TIGUAN</td>\n",
              "      <td>2017.0</td>\n",
              "      <td>G</td>\n",
              "      <td>26995.0</td>\n",
              "      <td>44045.0</td>\n",
              "      <td>Pacific</td>\n",
              "      <td>12000.0</td>\n",
              "      <td>30</td>\n",
              "      <td>4</td>\n",
              "      <td>2019</td>\n",
              "      <td>1</td>\n",
              "      <td>2</td>\n",
              "      <td>15</td>\n",
              "      <td>3</td>\n",
              "      <td>2018</td>\n",
              "      <td>3</td>\n",
              "      <td>1</td>\n",
              "      <td>12600.0</td>\n",
              "    </tr>\n",
              "    <tr>\n",
              "      <th>423221</th>\n",
              "      <td>2019-04-30</td>\n",
              "      <td>2018-03-23</td>\n",
              "      <td>Volkswagen</td>\n",
              "      <td>TIGUAN</td>\n",
              "      <td>2017.0</td>\n",
              "      <td>G</td>\n",
              "      <td>27025.0</td>\n",
              "      <td>18601.0</td>\n",
              "      <td>Midwest</td>\n",
              "      <td>14600.0</td>\n",
              "      <td>30</td>\n",
              "      <td>4</td>\n",
              "      <td>2019</td>\n",
              "      <td>1</td>\n",
              "      <td>2</td>\n",
              "      <td>23</td>\n",
              "      <td>3</td>\n",
              "      <td>2018</td>\n",
              "      <td>4</td>\n",
              "      <td>1</td>\n",
              "      <td>12000.0</td>\n",
              "    </tr>\n",
              "    <tr>\n",
              "      <th>423222</th>\n",
              "      <td>2019-04-30</td>\n",
              "      <td>2017-12-27</td>\n",
              "      <td>Volkswagen</td>\n",
              "      <td>TIGUAN</td>\n",
              "      <td>2017.0</td>\n",
              "      <td>G</td>\n",
              "      <td>26945.0</td>\n",
              "      <td>42077.0</td>\n",
              "      <td>Pacific</td>\n",
              "      <td>10800.0</td>\n",
              "      <td>30</td>\n",
              "      <td>4</td>\n",
              "      <td>2019</td>\n",
              "      <td>1</td>\n",
              "      <td>2</td>\n",
              "      <td>27</td>\n",
              "      <td>12</td>\n",
              "      <td>2017</td>\n",
              "      <td>2</td>\n",
              "      <td>4</td>\n",
              "      <td>14600.0</td>\n",
              "    </tr>\n",
              "  </tbody>\n",
              "</table>\n",
              "<p>423223 rows × 21 columns</p>\n",
              "</div>"
            ],
            "text/plain": [
              "       sales_date  ... sales_price_lag1\n",
              "0      2017-01-01  ...              0.0\n",
              "1      2017-01-01  ...          11800.0\n",
              "2      2017-01-01  ...          10739.0\n",
              "3      2017-01-01  ...          28707.0\n",
              "4      2017-01-01  ...           9376.0\n",
              "...           ...  ...              ...\n",
              "423218 2019-04-30  ...          15250.0\n",
              "423219 2019-04-30  ...          24800.0\n",
              "423220 2019-04-30  ...          12600.0\n",
              "423221 2019-04-30  ...          12000.0\n",
              "423222 2019-04-30  ...          14600.0\n",
              "\n",
              "[423223 rows x 21 columns]"
            ]
          },
          "metadata": {
            "tags": []
          },
          "execution_count": 611
        }
      ]
    },
    {
      "cell_type": "code",
      "metadata": {
        "colab": {
          "base_uri": "https://localhost:8080/"
        },
        "id": "DV_Q-uIzU-rC",
        "outputId": "89e78ce9-3bb5-4e9a-d943-72446346ba2d"
      },
      "source": [
        "#Find the index of 1st April, 2019 from which test data starts\r\n",
        "test_data_start_index  = (df['sales_date'].dt.strftime('%Y-%m-%d') == '2019-04-01').idxmax()\r\n",
        "#95% train and 5% validation split\r\n",
        "validation_data_start_index = int(test_data_start_index *0.95)\r\n",
        "print('Test data starts at index', test_data_start_index)\r\n",
        "print('Validation data starts at index', validation_data_start_index)\r\n",
        "\r\n",
        "df = df.drop(columns=['sales_date', 'first_registration'])\r\n",
        "df = df[[c for c in df if c not in ['sales_price']]  + ['sales_price']] #Reorder column positions and place sales_price at last\r\n",
        "\r\n",
        "#Create train, validation and test datasets\r\n",
        "train = (df.loc[:validation_data_start_index, :])\r\n",
        "validation = (df.loc[validation_data_start_index: test_data_start_index, :])\r\n",
        "test = (df.loc[test_data_start_index:, :])\r\n",
        "\r\n",
        "train_X, train_y = train.iloc[:, :-1], train.iloc[:, -1]\r\n",
        "validation_X, validation_y = validation.iloc[:, :-1], validation.iloc[:, -1]\r\n",
        "test_X, test_y = test.iloc[:, :-1], test.iloc[:, -1]"
      ],
      "execution_count": 612,
      "outputs": [
        {
          "output_type": "stream",
          "text": [
            "Test data starts at index 402616\n",
            "Validation data starts at index 382485\n"
          ],
          "name": "stdout"
        }
      ]
    },
    {
      "cell_type": "code",
      "metadata": {
        "id": "x_OXaQ0-KIwR"
      },
      "source": [
        "categorical_columns = ['brand', 'model', 'region', 'fuel']\r\n",
        "\r\n",
        "# In TargetEncoder, the categorical value is replaced with the probability of the target given a particular categorical value \r\n",
        "# It is said to be a better alternative to LabelEncoding and OneHotEncoding\r\n",
        "enc = TargetEncoder(cols=categorical_columns)\r\n",
        "\r\n",
        "# Fit on training data and transform test and validation data\r\n",
        "enc = enc.fit(train_X, train_y)\r\n",
        "train_X = enc.transform(train_X)\r\n",
        "validation_X = enc.transform(validation_X)\r\n",
        "test_X = enc.transform(test_X)\r\n"
      ],
      "execution_count": null,
      "outputs": []
    },
    {
      "cell_type": "code",
      "metadata": {
        "id": "tz3IOsHzYpFa"
      },
      "source": [
        "train = pd.concat([train_X, train_y], axis=1)\r\n",
        "validation = pd.concat([validation_X, validation_y], axis=1)\r\n",
        "test = pd.concat([test_X, test_y], axis=1)\r\n"
      ],
      "execution_count": 614,
      "outputs": []
    },
    {
      "cell_type": "markdown",
      "metadata": {
        "id": "acTbkrDsLFkG"
      },
      "source": [
        "# Outlier removal - As outliers are observed during visualization, we remove them"
      ]
    },
    {
      "cell_type": "code",
      "metadata": {
        "id": "DivoKjj0VmVi",
        "colab": {
          "base_uri": "https://localhost:8080/"
        },
        "outputId": "dd7915bd-0a66-4653-bc72-b6304e3ce0ed"
      },
      "source": [
        "from scipy import stats\r\n",
        "z = np.abs(stats.zscore(train))\r\n",
        "threshold = 3\r\n",
        "x, y = np.where(z > 3)\r\n",
        "#Use zscore to remove outlier\r\n",
        "train = train[(z < 3).all(axis=1)]\r\n",
        "print('Identified number of outliers', x.shape[0])"
      ],
      "execution_count": 615,
      "outputs": [
        {
          "output_type": "stream",
          "text": [
            "Identified number of outliers 30808\n"
          ],
          "name": "stdout"
        }
      ]
    },
    {
      "cell_type": "code",
      "metadata": {
        "colab": {
          "base_uri": "https://localhost:8080/",
          "height": 419
        },
        "id": "rjc9juTm_s7P",
        "outputId": "e1b52ee5-a9f3-4b52-cbde-646b277025c1"
      },
      "source": [
        "#Plot correlation among features for the preprocessed data\r\n",
        "sns.heatmap(pd.DataFrame(train).corr(), vmin=-1, vmax=1, center=0) "
      ],
      "execution_count": 616,
      "outputs": [
        {
          "output_type": "execute_result",
          "data": {
            "text/plain": [
              "<matplotlib.axes._subplots.AxesSubplot at 0x7fcdf89344a8>"
            ]
          },
          "metadata": {
            "tags": []
          },
          "execution_count": 616
        },
        {
          "output_type": "display_data",
          "data": {
            "image/png": "[encoded data removed]",
            "text/plain": [
              "<Figure size 432x288 with 2 Axes>"
            ]
          },
          "metadata": {
            "tags": [],
            "needs_background": "light"
          }
        }
      ]
    },
    {
      "cell_type": "code",
      "metadata": {
        "id": "Dp3OuTEVO0DQ"
      },
      "source": [
        "#Scale dataset after removing outliers\r\n",
        "def scaleDataset(train, validation, test):\r\n",
        "\t# scaler = MinMaxScaler(feature_range=(0, 5))\r\n",
        " \t# scaler = StandardScaler()\r\n",
        "  scaler = RobustScaler() #Model tuning is done based on different Scalers, and RobustScaler is selected\r\n",
        "\r\n",
        "  scaler = scaler.fit(train)\r\n",
        "  scaledTrain = scaler.transform(train)\r\n",
        "  scaledValidation = scaler.transform(validation)\r\n",
        "  scaledTest = scaler.transform(test)\r\n",
        "  return scaledTrain, scaledValidation, scaledTest, scaler\r\n",
        "\r\n",
        "train, validation, test, scaler = scaleDataset(train, validation, test)"
      ],
      "execution_count": 617,
      "outputs": []
    },
    {
      "cell_type": "markdown",
      "metadata": {
        "id": "iGSfzxSyUCZ1"
      },
      "source": [
        "#Model building"
      ]
    },
    {
      "cell_type": "code",
      "metadata": {
        "colab": {
          "base_uri": "https://localhost:8080/"
        },
        "id": "LCOLKudG-bA8",
        "outputId": "7b1ae303-4843-444e-c784-4054872ec228"
      },
      "source": [
        "train_X, train_y = train[:, :-1], train[:, -1]\r\n",
        "validation_X, validation_y = validation[:, :-1], validation[:, -1]\r\n",
        "test_X, test_y = test[:, :-1], test[:, -1]\r\n",
        "\r\n",
        "# Reshape input to [examples, timesteps, features]\r\n",
        "train_X = train_X.reshape((train_X.shape[0], 1, train_X.shape[1]))\r\n",
        "validation_X = validation_X.reshape((validation_X.shape[0], 1, validation_X.shape[1]))\r\n",
        "test_X = test_X.reshape((test_X.shape[0], 1, test_X.shape[1]))\r\n",
        "\r\n",
        "print(train_X.shape, train_y.shape, validation_X.shape, validation_y.shape, test_X.shape, test_y.shape) \r\n"
      ],
      "execution_count": 618,
      "outputs": [
        {
          "output_type": "stream",
          "text": [
            "(356188, 1, 18) (356188,) (20132, 1, 18) (20132,) (20607, 1, 18) (20607,)\n"
          ],
          "name": "stdout"
        }
      ]
    },
    {
      "cell_type": "code",
      "metadata": {
        "id": "lOLHA0Rrjnfj"
      },
      "source": [
        "def LSTM_MODEL():\r\n",
        "  model = models.Sequential()\r\n",
        "  #model is tuned with varying LSTM and Dense layer units\r\n",
        "  model.add(layers.LSTM(100, input_shape=(train_X.shape[1], train_X.shape[2])))\r\n",
        "  model.add(layers.Dense(1, activation='linear'))\r\n",
        "  model.compile(loss='mae', optimizer='adam', metrics=[ 'mse', 'mae'])\r\n",
        "  return model"
      ],
      "execution_count": 619,
      "outputs": []
    },
    {
      "cell_type": "code",
      "metadata": {
        "colab": {
          "base_uri": "https://localhost:8080/"
        },
        "id": "RA_d6Nuaj6cm",
        "outputId": "f373dabf-cf0b-41e8-f42c-e6f2e1f3da87"
      },
      "source": [
        "model = LSTM_MODEL()\r\n",
        "model.summary()"
      ],
      "execution_count": 556,
      "outputs": [
        {
          "output_type": "stream",
          "text": [
            "Model: \"sequential_77\"\n",
            "_________________________________________________________________\n",
            "Layer (type)                 Output Shape              Param #   \n",
            "=================================================================\n",
            "lstm_43 (LSTM)               (None, 100)               47600     \n",
            "_________________________________________________________________\n",
            "dense_111 (Dense)            (None, 1)                 101       \n",
            "=================================================================\n",
            "Total params: 47,701\n",
            "Trainable params: 47,701\n",
            "Non-trainable params: 0\n",
            "_________________________________________________________________\n"
          ],
          "name": "stdout"
        }
      ]
    },
    {
      "cell_type": "code",
      "metadata": {
        "colab": {
          "base_uri": "https://localhost:8080/",
          "height": 676
        },
        "id": "RvOhLs8vb-gb",
        "outputId": "860892e6-14f2-46d3-a0c0-2be16afd97d3"
      },
      "source": [
        "# es = EarlyStopping(monitor='val_loss', mode='min', verbose=1, patience=2) \r\n",
        "# EarlyStopping is avoided as model is found to underfit. \r\n",
        "# So all the typical regularization techniques like adding Dropout to layers, L1, L2 regularization, adding GaussianNoise is prevented\r\n",
        "\r\n",
        "history = model.fit(train_X, train_y, epochs=10, batch_size=256, validation_data=(validation_X, validation_y), verbose=1, shuffle=False)\r\n",
        "model.save('model_10epochs')\r\n",
        "# summarize history for loss\r\n",
        "plt.plot(history.history['loss'])\r\n",
        "plt.plot(history.history['val_loss'])\r\n",
        "plt.title('Loss')\r\n",
        "plt.ylabel('loss')\r\n",
        "plt.xlabel('epoch')\r\n",
        "plt.legend(['Train', 'Validation'])\r\n",
        "plt.show()\r\n"
      ],
      "execution_count": 557,
      "outputs": [
        {
          "output_type": "stream",
          "text": [
            "Epoch 1/10\n",
            "1495/1495 [==============================] - 9s 6ms/step - loss: 0.1681 - mse: 0.1681 - mae: 0.2221 - val_loss: 0.1176 - val_mse: 0.1176 - val_mae: 0.2050\n",
            "Epoch 2/10\n",
            "1495/1495 [==============================] - 9s 6ms/step - loss: 0.1379 - mse: 0.1379 - mae: 0.1969 - val_loss: 0.1165 - val_mse: 0.1165 - val_mae: 0.2040\n",
            "Epoch 3/10\n",
            "1495/1495 [==============================] - 9s 6ms/step - loss: 0.1355 - mse: 0.1355 - mae: 0.1941 - val_loss: 0.1174 - val_mse: 0.1174 - val_mae: 0.2067\n",
            "Epoch 4/10\n",
            "1495/1495 [==============================] - 9s 6ms/step - loss: 0.1346 - mse: 0.1346 - mae: 0.1927 - val_loss: 0.1182 - val_mse: 0.1182 - val_mae: 0.2092\n",
            "Epoch 5/10\n",
            "1495/1495 [==============================] - 9s 6ms/step - loss: 0.1339 - mse: 0.1339 - mae: 0.1917 - val_loss: 0.1180 - val_mse: 0.1180 - val_mae: 0.2094\n",
            "Epoch 6/10\n",
            "1495/1495 [==============================] - 9s 6ms/step - loss: 0.1334 - mse: 0.1334 - mae: 0.1907 - val_loss: 0.1172 - val_mse: 0.1172 - val_mae: 0.2079\n",
            "Epoch 7/10\n",
            "1495/1495 [==============================] - 9s 6ms/step - loss: 0.1328 - mse: 0.1328 - mae: 0.1898 - val_loss: 0.1160 - val_mse: 0.1160 - val_mae: 0.2053\n",
            "Epoch 8/10\n",
            "1495/1495 [==============================] - 9s 6ms/step - loss: 0.1323 - mse: 0.1323 - mae: 0.1889 - val_loss: 0.1147 - val_mse: 0.1147 - val_mae: 0.2023\n",
            "Epoch 9/10\n",
            "1495/1495 [==============================] - 9s 6ms/step - loss: 0.1319 - mse: 0.1319 - mae: 0.1881 - val_loss: 0.1135 - val_mse: 0.1135 - val_mae: 0.1993\n",
            "Epoch 10/10\n",
            "1495/1495 [==============================] - 9s 6ms/step - loss: 0.1315 - mse: 0.1315 - mae: 0.1875 - val_loss: 0.1124 - val_mse: 0.1124 - val_mae: 0.1965\n",
            "INFO:tensorflow:Assets written to: model_10epochs/assets\n"
          ],
          "name": "stdout"
        },
        {
          "output_type": "display_data",
          "data": {
            "image/png": "[encoded data removed]",
            "text/plain": [
              "<Figure size 432x288 with 1 Axes>"
            ]
          },
          "metadata": {
            "tags": [],
            "needs_background": "light"
          }
        }
      ]
    },
    {
      "cell_type": "code",
      "metadata": {
        "colab": {
          "base_uri": "https://localhost:8080/"
        },
        "id": "ztn4pUCsaTT4",
        "outputId": "385f909a-be23-4623-b3db-ebafbb3ba36a"
      },
      "source": [
        "# This method inverts the scaling of predicted and target attribute and calculates RMSE and MAE errors\r\n",
        "def predict(X, y, model):\r\n",
        "  y_predicted = model.predict(X)\r\n",
        "  X = tf.reshape(X, (X.shape[0], X.shape[2]))\r\n",
        "  y_predicted = scaler.inverse_transform(np.concatenate((X, y_predicted), axis=1))[:,-1]\r\n",
        "  y_target = scaler.inverse_transform(np.concatenate((X, y), axis=1))[:,-1]\r\n",
        "\r\n",
        "  rmse = np.sqrt(mean_squared_error(y_predicted, y_target))\r\n",
        "  mae = mean_absolute_error(y_predicted, y_target)\r\n",
        "  print('Root Mean Square Error(RMSE)', rmse, 'Mean Absolute Error (MAE)', mae, end='\\n\\n')\r\n",
        "\r\n",
        "print('Error in Training dataset')\r\n",
        "predict(train_X, train_y.reshape(-1,1), model)\r\n",
        "print('Error in Validation dataset')\r\n",
        "predict(validation_X, validation_y.reshape(-1,1), model)\r\n",
        "print('Error in Test dataset')\r\n",
        "predict(test_X, test_y.reshape(-1,1), model)\r\n"
      ],
      "execution_count": 562,
      "outputs": [
        {
          "output_type": "stream",
          "text": [
            "Error in Training dataset\n",
            "Root Mean Square Error(RMSE) 4759.475214288724 Mean Absolute Error (MAE) 2473.0614522258243\n",
            "\n",
            "Error in Validation dataset\n",
            "Root Mean Square Error(RMSE) 4375.696792491352 Mean Absolute Error (MAE) 2565.424940049981\n",
            "\n",
            "Error in Test dataset\n",
            "Root Mean Square Error(RMSE) 4283.45292107201 Mean Absolute Error (MAE) 2605.229188745824\n",
            "\n"
          ],
          "name": "stdout"
        }
      ]
    },
    {
      "cell_type": "markdown",
      "metadata": {
        "id": "xJf7E8rTYUz2"
      },
      "source": [
        "### Conclusion: From the above plot to catpure loss in train and validation datasets with epochs, we can see that the model is underfitting because of high loss and moreover the training loss is greater than the validation loss"
      ]
    },
    {
      "cell_type": "markdown",
      "metadata": {
        "id": "s4gBHkzFVp5P"
      },
      "source": [
        "# Testing with different optimizers"
      ]
    },
    {
      "cell_type": "code",
      "metadata": {
        "id": "CLPHjMqNZb5f"
      },
      "source": [
        "def fitModelWithOptimizer(optimizer):\r\n",
        "    model = LSTM_MODEL()\r\n",
        "    model.compile(loss='mae', optimizer=optimizer, metrics=[ 'mse', 'mae'])\r\n",
        "    history = model.fit(train_X, train_y, epochs=10, batch_size=256, validation_data=(validation_X, validation_y), verbose=0, shuffle=False)\r\n",
        "\r\n",
        "def draw_plot(history, name):\r\n",
        "  plt.plot(history.history['loss'])\r\n",
        "  plt.plot(history.history['val_loss'])\r\n",
        "  plt.title('Training and Validation data loss for '+name)\r\n",
        "  plt.ylabel('loss')\r\n",
        "  plt.xlabel('epoch')\r\n",
        "  plt.legend(['Train', 'Validation'])\r\n",
        "  plt.show()\r\n",
        "\r\n",
        "\r\n",
        "history_adam, model_adam = fitModelWithOptimizer('adam')\r\n",
        "history_rmsprop, model_rmsprop = fitModelWithOptimizer('RMSprop')\r\n",
        "history_adadelta, model_adadelta = fitModelWithOptimizer('Adadelta')\r\n",
        "history_sgd, model_sgd = fitModelWithOptimizer('SGD')"
      ],
      "execution_count": 563,
      "outputs": []
    },
    {
      "cell_type": "code",
      "metadata": {
        "colab": {
          "base_uri": "https://localhost:8080/"
        },
        "id": "eLtYVFIhdorz",
        "outputId": "c37988d7-0ee7-42a6-c4f4-3b264b69244b"
      },
      "source": [
        "print('Error in Validation dataset with Adam')\r\n",
        "predict(validation_X, validation_y.reshape(-1,1), model_adam)\r\n",
        "\r\n",
        "print('Error in Validation dataset with RMSprop')\r\n",
        "predict(validation_X, validation_y.reshape(-1,1), model_rmsprop)\r\n",
        "\r\n",
        "print('Error in Validation dataset with Adadelta')\r\n",
        "predict(validation_X, validation_y.reshape(-1,1), model_adadelta)\r\n",
        "\r\n",
        "print('Error in Validation dataset with SGD')\r\n",
        "predict(validation_X, validation_y.reshape(-1,1), model_sgd)"
      ],
      "execution_count": 565,
      "outputs": [
        {
          "output_type": "stream",
          "text": [
            "Error in Validation dataset with Adam\n",
            "Root Mean Square Error(RMSE) 4285.709927236732 Mean Absolute Error (MAE) 2218.8632940737452\n",
            "\n",
            "Error in Validation dataset with RMSprop\n",
            "Root Mean Square Error(RMSE) 4365.225846023114 Mean Absolute Error (MAE) 2539.8814702994387\n",
            "\n",
            "Error in Validation dataset with Adadelta\n",
            "Root Mean Square Error(RMSE) 7929.630245611143 Mean Absolute Error (MAE) 4572.918718435958\n",
            "\n",
            "Error in Validation dataset with SGD\n",
            "Root Mean Square Error(RMSE) 4507.839061044571 Mean Absolute Error (MAE) 2387.1773647033506\n",
            "\n"
          ],
          "name": "stdout"
        }
      ]
    },
    {
      "cell_type": "code",
      "metadata": {
        "colab": {
          "base_uri": "https://localhost:8080/",
          "height": 295
        },
        "id": "Jb0Ys0sQfVD7",
        "outputId": "3cbc9d53-1d98-4401-ec1b-4c18f2a579bd"
      },
      "source": [
        "draw_plot(history_adam,'Adam') #Converges a little faster than other optimizers but still underfits the data"
      ],
      "execution_count": 567,
      "outputs": [
        {
          "output_type": "display_data",
          "data": {
            "image/png": "[encoded data removed]",
            "text/plain": [
              "<Figure size 432x288 with 1 Axes>"
            ]
          },
          "metadata": {
            "tags": [],
            "needs_background": "light"
          }
        }
      ]
    },
    {
      "cell_type": "code",
      "metadata": {
        "colab": {
          "base_uri": "https://localhost:8080/",
          "height": 295
        },
        "id": "3hWswgz0fa88",
        "outputId": "5dd330a7-c6e7-4264-96fa-34bd5f1d2d90"
      },
      "source": [
        "draw_plot(history_rmsprop,'RMSprop') #Overfits the validation data as loss increases with epoch"
      ],
      "execution_count": 568,
      "outputs": [
        {
          "output_type": "display_data",
          "data": {
            "image/png": "[encoded data removed]",
            "text/plain": [
              "<Figure size 432x288 with 1 Axes>"
            ]
          },
          "metadata": {
            "tags": [],
            "needs_background": "light"
          }
        }
      ]
    },
    {
      "cell_type": "code",
      "metadata": {
        "colab": {
          "base_uri": "https://localhost:8080/",
          "height": 295
        },
        "id": "NKhIC4Lmfkwm",
        "outputId": "b7dbd927-cba5-46d0-ba7f-4c1ff9e23da5"
      },
      "source": [
        "draw_plot(history_adadelta,'AdaDelta') #Contains very high bias and coverges slower than others"
      ],
      "execution_count": 569,
      "outputs": [
        {
          "output_type": "display_data",
          "data": {
            "image/png": "[encoded data removed]",
            "text/plain": [
              "<Figure size 432x288 with 1 Axes>"
            ]
          },
          "metadata": {
            "tags": [],
            "needs_background": "light"
          }
        }
      ]
    },
    {
      "cell_type": "code",
      "metadata": {
        "colab": {
          "base_uri": "https://localhost:8080/",
          "height": 295
        },
        "id": "-WOg7haWfqh9",
        "outputId": "5a3d20a0-24a2-4ea3-883e-7bdc7547034f"
      },
      "source": [
        "draw_plot(history_sgd,'SGD') #Contains high bias and converges slower than Adam"
      ],
      "execution_count": 570,
      "outputs": [
        {
          "output_type": "display_data",
          "data": {
            "image/png": "[encoded data removed]",
            "text/plain": [
              "<Figure size 432x288 with 1 Axes>"
            ]
          },
          "metadata": {
            "tags": [],
            "needs_background": "light"
          }
        }
      ]
    },
    {
      "cell_type": "markdown",
      "metadata": {
        "id": "0b0rTbJchWKf"
      },
      "source": [
        "### Conclusion: From the above graphs, we can choose Adam over other optimizers for our model and dataset"
      ]
    },
    {
      "cell_type": "code",
      "metadata": {
        "colab": {
          "base_uri": "https://localhost:8080/"
        },
        "id": "LTaX2Y_YZF86",
        "outputId": "082befcc-84ca-4a31-8aa2-132c834a0fa3"
      },
      "source": [
        "#Load pretrained models with 100 and 500 epochs built with Adam optimizer\r\n",
        "model = models.load_model('model_100epochs')\r\n",
        "\r\n",
        "print('----- Model on 100 epochs-----')\r\n",
        "print('Error in Training dataset')\r\n",
        "predict(train_X, train_y.reshape(-1,1), model)\r\n",
        "print('Error in Validation dataset')\r\n",
        "predict(validation_X, validation_y.reshape(-1,1), model)\r\n",
        "print('Error in Test dataset')\r\n",
        "predict(test_X, test_y.reshape(-1,1), model)\r\n",
        "\r\n",
        "model = models.load_model('model_500epochs')\r\n",
        "\r\n",
        "print('\\n\\n----- Model on 500 epochs-----')\r\n",
        "print('Error in Training dataset')\r\n",
        "predict(train_X, train_y.reshape(-1,1), model)\r\n",
        "print('Error in Validation dataset')\r\n",
        "predict(validation_X, validation_y.reshape(-1,1), model)\r\n",
        "print('Error in Test dataset')\r\n",
        "predict(test_X, test_y.reshape(-1,1), model)\r\n",
        "\r\n",
        "\r\n"
      ],
      "execution_count": 620,
      "outputs": [
        {
          "output_type": "stream",
          "text": [
            "----- Model on 100 epochs-----\n",
            "Error in Training dataset\n",
            "RMSE 3481.9058255928653 MAE 2005.3411015882748\n",
            "Error in Validation dataset\n",
            "RMSE 4280.1024311288575 MAE 2333.1388992039238\n",
            "Error in Test dataset\n",
            "RMSE 4160.457349023292 MAE 2463.641079156667\n",
            "\n",
            "\n",
            "----- Model on 500 epochs-----\n",
            "Error in Training dataset\n",
            "RMSE 3549.9383036037098 MAE 2150.856142950598\n",
            "Error in Validation dataset\n",
            "RMSE 4413.525050629428 MAE 2424.9510476068795\n",
            "Error in Test dataset\n",
            "RMSE 4252.525751027361 MAE 2483.0105369353328\n"
          ],
          "name": "stdout"
        }
      ]
    },
    {
      "cell_type": "markdown",
      "metadata": {
        "id": "mQU46YJTo1AJ"
      },
      "source": [
        "Training and Validation data loss for 100 Epochs\r\n",
        "\r\n",
        "![history_100epochs.png](data:image/png;base64,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)"
      ]
    },
    {
      "cell_type": "markdown",
      "metadata": {
        "id": "OONkMLzojzmU"
      },
      "source": [
        "Training and Validation data loss for 500 Epochs\r\n",
        "\r\n",
        "![history_500epochs.png](data:image/png;base64,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)"
      ]
    },
    {
      "cell_type": "code",
      "metadata": {
        "id": "Xk1q-qAD0Db9"
      },
      "source": [
        "#Finds the best combination of parameters by tuning the hyperparameters: batch_size, epochs\r\n",
        "def HyperparametertuneModelParams(batch_size, epoch):\r\n",
        "  global test_y\r\n",
        "  model = LSTM_MODEL()\r\n",
        "  history = model.fit(train_X, train_y, epochs=epoch, batch_size=batch_size, validation_data=(validation_X, validation_y), verbose=0, shuffle=False)\r\n",
        "  print('Batch_size', batch_size, 'Epochs', epoch)\r\n",
        "  predict(validation_X, validation_y.reshape(-1,1), model)\r\n",
        "\r\n",
        "batch_sizes = [64,128,256]\r\n",
        "epochs = [5, 10, 15]\r\n",
        "\r\n",
        "for batch_size in batch_sizes:\r\n",
        "  for epoch in epochs:\r\n",
        "    HyperparametertuneModelParams(batch_size, epoch)\r\n"
      ],
      "execution_count": 555,
      "outputs": []
    },
    {
      "cell_type": "code",
      "metadata": {
        "colab": {
          "base_uri": "https://localhost:8080/",
          "height": 295
        },
        "id": "7Xo7eTBKqKn6",
        "outputId": "37127a2a-7e82-440f-f14f-f8bf799628db"
      },
      "source": [
        "#Analyze the predictions for the model trained on 100epochs\r\n",
        "model = models.load_model('model_100epochs')\r\n",
        "\r\n",
        "y_predicted = model.predict(test_X)\r\n",
        "X = tf.reshape(test_X, (test_X.shape[0], test_X.shape[2]))\r\n",
        "y_predicted = scaler.inverse_transform(np.concatenate((X, y_predicted), axis=1))[:,-1]\r\n",
        "y_target = scaler.inverse_transform(np.concatenate((X, test_y.reshape(-1,1)), axis=1))[:,-1]\r\n",
        "\r\n",
        "ax = sns.scatterplot(x=y_predicted, y=y_target)\r\n",
        "plt.title('Predicted vs Actual Sales price')\r\n",
        "plt.xlabel('Predicted Sales Price')\r\n",
        "plt.ylabel('Actual Sales Price')\r\n",
        "plt.show()"
      ],
      "execution_count": 625,
      "outputs": [
        {
          "output_type": "display_data",
          "data": {
            "image/png": "[encoded data removed]",
            "text/plain": [
              "<Figure size 432x288 with 1 Axes>"
            ]
          },
          "metadata": {
            "tags": [],
            "needs_background": "light"
          }
        }
      ]
    },
    {
      "cell_type": "markdown",
      "metadata": {
        "id": "nh0D3Qwosauk"
      },
      "source": [
        "### Conclusion: We can conclude that LSTM is not a right fit for the given data as the best RMSE (4160.457) and MAE (2463.641) achieved is still not convincing. With the addition of more features, LSTM might perform well. It is recommended to explore other predictive models for this task."
      ]
    }
  ]
}